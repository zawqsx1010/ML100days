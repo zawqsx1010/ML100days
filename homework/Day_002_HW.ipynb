{
 "cells": [
  {
   "cell_type": "markdown",
   "metadata": {},
   "source": [
    "## [作業目標]\n",
    "了解機器學習適合應用的領域與範疇。"
   ]
  },
  {
   "cell_type": "markdown",
   "metadata": {},
   "source": [
    "## [作業重點]\n",
    "透過瞭解機器學習的運作方式，找出非常適用機器學習應用的領域及其原因"
   ]
  },
  {
   "cell_type": "markdown",
   "metadata": {},
   "source": [
    "## 作業\n",
    "請找出一個你認為機器學習可以發光發熱的領域並闡述原因? "
   ]
  },
  {
   "cell_type": "markdown",
   "metadata": {},
   "source": [
    "## Ans:"
   ]
  },
  {
   "cell_type": "markdown",
   "metadata": {},
   "source": [
    "   關於保險業務或是一些金融貸款，時常遇到詐騙保險金與遇到無法償還貸款的客戶，在以前只能仰賴較嚴格的財務證明，以及貸款審核人員的專業避免此類事件發生，但這類的金融詐騙防不勝防，單靠審核人員一己之力也還是有不少事件發生。目前，許多大型的金融公司也越來越重視資訊的收集與利用，客戶訊息像是信用卡資訊、房貸、車貸以及薪資證明，都是能評鑑客戶信用能力的變數，而對於大型的金融公司來說，長年累積的資料庫檔案，也適合需要大量資料運作的機器學習，就我的認知此類的信用評鑑已經開始發展，也希望機器學習所建立的演算準則可以有效下降金融詐騙的比例。"
   ]
  }
 ],
 "metadata": {
  "kernelspec": {
   "display_name": "Python 3",
   "language": "python",
   "name": "python3"
  },
  "language_info": {
   "codemirror_mode": {
    "name": "ipython",
    "version": 3
   },
   "file_extension": ".py",
   "mimetype": "text/x-python",
   "name": "python",
   "nbconvert_exporter": "python",
   "pygments_lexer": "ipython3",
   "version": "3.6.7"
  }
 },
 "nbformat": 4,
 "nbformat_minor": 2
}
