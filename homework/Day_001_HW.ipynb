{
 "cells": [
  {
   "cell_type": "markdown",
   "metadata": {},
   "source": [
    "## 練習時間\n",
    "#### 請寫一個函式用來計算 Mean Square Error\n",
    "$ MSE = \\frac{1}{n}\\sum_{i=1}^{n}{(Y_i - \\hat{Y}_i)^2} $\n",
    "\n",
    "### Hint: [如何取平方](https://googoodesign.gitbooks.io/-ezpython/unit-1.html)"
   ]
  },
  {
   "cell_type": "markdown",
   "metadata": {},
   "source": [
    "# [作業目標]\n",
    "- 仿造範例的MAE函數, 自己寫一個MSE函數(參考上面公式)"
   ]
  },
  {
   "cell_type": "markdown",
   "metadata": {},
   "source": [
    "# [作業重點]\n",
    "- 注意程式的縮排\n",
    "- 是否能將數學公式, 轉換為 Python 的函式組合? (In[2], Out[2])"
   ]
  },
  {
   "cell_type": "code",
   "execution_count": 1,
   "metadata": {},
   "outputs": [],
   "source": [
    "# 載入基礎套件與代稱\n",
    "import numpy as np\n",
    "import matplotlib.pyplot as plt"
   ]
  },
  {
   "cell_type": "code",
   "execution_count": 14,
   "metadata": {},
   "outputs": [],
   "source": [
    "def mean_absolute_error(y, yp):\n",
    "    \"\"\"\n",
    "    計算 MAE\n",
    "    Args:\n",
    "        - y: 實際值\n",
    "        - yp: 預測值\n",
    "    Return:\n",
    "        - mae: MAE\n",
    "    \"\"\"\n",
    "    mae = MAE = sum(abs(y - yp)) / len(y)\n",
    "    return mae\n",
    "\n",
    "# 定義 mean_squared_error 這個函數, 計算並傳回 MSE\n",
    "def mean_squared_error(y,yp):\n",
    "    \"\"\"\n",
    "    請完成這個 Function 後往下執行\n",
    "    計算 MSE\n",
    "    Args:\n",
    "        - y: 實際值\n",
    "        - yp: 預測值\n",
    "    Return:\n",
    "        - mse: MAE\n",
    "\n",
    "    \"\"\"\n",
    "    mse = MSE = sum((y-yp)**2) / len(y)\n",
    "    return mse"
   ]
  },
  {
   "cell_type": "code",
   "execution_count": 3,
   "metadata": {},
   "outputs": [
    {
     "data": {
      "image/png": "[encoded data removed]",
      "text/plain": [
       "<Figure size 432x288 with 1 Axes>"
      ]
     },
     "metadata": {
      "needs_background": "light"
     },
     "output_type": "display_data"
    }
   ],
   "source": [
    "# 與範例相同, 不另外解說\n",
    "w = 3\n",
    "b = 0.5\n",
    "x_lin = np.linspace(0, 100, 101)\n",
    "y = (x_lin + np.random.randn(101) * 5) * w + b\n",
    "\n",
    "plt.plot(x_lin, y, 'b.', label = 'data points')\n",
    "plt.title(\"Assume we have data points\")\n",
    "plt.legend(loc = 2)\n",
    "plt.show()"
   ]
  },
  {
   "cell_type": "code",
   "execution_count": 4,
   "metadata": {},
   "outputs": [
    {
     "data": {
      "image/png": "[encoded data removed]",
      "text/plain": [
       "<Figure size 432x288 with 1 Axes>"
      ]
     },
     "metadata": {
      "needs_background": "light"
     },
     "output_type": "display_data"
    }
   ],
   "source": [
    "# 與範例相同, 不另外解說\n",
    "y_hat = x_lin * w + b\n",
    "plt.plot(x_lin, y, 'b.', label = 'data')\n",
    "plt.plot(x_lin, y_hat, 'r-', label = 'prediction')\n",
    "plt.title(\"Assume we have data points (And the prediction)\")\n",
    "plt.legend(loc = 2)\n",
    "plt.show()"
   ]
  },
  {
   "cell_type": "code",
   "execution_count": 15,
   "metadata": {},
   "outputs": [
    {
     "name": "stdout",
     "output_type": "stream",
     "text": [
      "The Mean squared error is 243.366\n",
      "The Mean absolute error is 12.071\n"
     ]
    }
   ],
   "source": [
    "# 執行 Function, 確認有沒有正常執行\n",
    "MSE = mean_squared_error(y, y_hat)\n",
    "MAE = mean_absolute_error(y, y_hat)\n",
    "print(\"The Mean squared error is %.3f\" % (MSE))\n",
    "print(\"The Mean absolute error is %.3f\" % (MAE))"
   ]
  },
  {
   "cell_type": "markdown",
   "metadata": {},
   "source": [
    "# [作業2]\n",
    "\n",
    "請上 Kaggle, 在 Competitions 或 Dataset 中找一組競賽或資料並寫下：\n",
    "\n",
    "1. 你選的這組資料為何重要\n",
    "\n",
    "2. 資料從何而來 (tips: 譬如提供者是誰、以什麼方式蒐集)\n",
    "\n",
    "3. 蒐集而來的資料型態為何\n",
    "\n",
    "4. 這組資料想解決的問題如何評估\n",
    "\n",
    "# [作業3]\n",
    "\n",
    "想像你經營一個自由載客車隊，你希望能透過數據分析以提升業績，請你思考並描述你如何規劃整體的分析/解決方案：\n",
    "\n",
    "1. 核心問題為何 (tips：如何定義 「提升業績 & 你的假設」)\n",
    "\n",
    "2. 資料從何而來 (tips：哪些資料可能會對你想問的問題產生影響 & 資料如何蒐集)\n",
    "\n",
    "3. 蒐集而來的資料型態為何\n",
    "\n",
    "4. 你要回答的問題，其如何評估 (tips：你的假設如何驗證)"
   ]
  },
  {
   "cell_type": "markdown",
   "metadata": {},
   "source": [
    "## Hw2\n",
    "### Ans1:\n",
    "           我選擇的是Kaggle競賽資料Titanic: Machine Learning from Disaster，此次海難來自鐵達尼號的首次出航中與冰山相撞，且船上無配備足夠的救生艇，導致眾多乘客與機組人員傷亡，資料記錄了鐵達尼號上乘客資料與最後生還者名單，並想要利用這些資料找尋出當災難發生時，擁有那些特徵的人較容易存活下來。\n"
   ]
  },
  {
   "cell_type": "markdown",
   "metadata": {},
   "source": [
    "### Ans2:\n",
    "           此筆資料為Kaggle平台所提供，在平台簡介上並無詳細說明蒐集方式，但由於鐵達尼號船難為歷史上的著名事件，此筆資料應為時計的是歷史資料。"
   ]
  },
  {
   "cell_type": "markdown",
   "metadata": {},
   "source": [
    "### Ans3:\n",
    "           此筆資料分為訓練集與測試集兩部分，在訓練集當中擁有label，也就是最後乘客是否生還，而測試集則是需利用在訓練集建立的模型對是否生還進行預測。資料包含是否生還survival應變數以外，還有\n",
    "           1. pclass    票價等級(分為3級，Upper,Middle,Lower)\n",
    "           2. sex       性別\n",
    "           3. Age       年齡\n",
    "           4. sibsp     兄弟姊妹及配偶在鐵達尼號上的數量\n",
    "           5. parch     直系血親在鐵達尼號上的數量\n",
    "           6. ticket    票號\n",
    "           7. fare      票價\n",
    "           8. cabin     機艙號\n",
    "           9. embarked  登船港口(C = Cherbourg, Q = Queenstown, S = Southampton)"
   ]
  },
  {
   "cell_type": "markdown",
   "metadata": {},
   "source": [
    "### Ans4:\n",
    "           此資料研究目的在於發現擁有哪些特徵的人乘客較容易生還，且在資料已分為訓練集與測試集，利用訓練集建模，並於測試集驗證模型的預測能力，所以我們將利用模型於測試集上的預測正確率來當作評估模型的準則。"
   ]
  },
  {
   "cell_type": "markdown",
   "metadata": {},
   "source": [
    "## HW1:\n",
    "### Ans1:\n",
    "            若我經營自由載客車隊，對於最關鍵的業績問題，我會以三個變數將此問題量化，第一個為某部車在單位時間內的載客次數，第二個為某部車在單位時間內的空車率，第三個也為其中最重要的變數單位時間內的利潤，其中單位時間可以以月或以日為單位，而空車率則為司機在總上班時間車內無乘客的時間比例，利潤則為收入扣除成本，成本如:油錢。我的思考為若單純以金錢衡量業績，會導致我無法看到業績好不好的原因，考慮到短程以及長程的載課方式，載長程旅客自然載客次數較少，此時用空車率就會衡量的較為公平。\n",
    "           在傳統計程車有兩種常見的載客方式，第一種為隨機在路上搜尋乘客，以及第二種在特定地區排隊等待乘客如:車站、機場，在我的假設之中想要比較使用兩種載客方式是否會影響業績，是否在定點載客的車輛業績較高呢?"
   ]
  },
  {
   "cell_type": "markdown",
   "metadata": {},
   "source": [
    "### Ans2:\n",
    "           首先，可以先針對車隊進行實驗設計，將車隊中的一半車輛設定為隨機搜尋乘客，另一半為在特定地區等待乘客，在每部車上加裝儀器，在司機上下班時按下儀器可記錄車子運轉時間，而計程車中的跳表功能可累計當月的載客次數以及跳表時間，用以計算載客次數以及空車率，並且針對每一輛車在加油時都需紀錄加油的日期與油量，以控制車子的耗油成本。(計算成本用以平衡長途載客中，收入較高但成本也較高之問題。)"
   ]
  },
  {
   "cell_type": "markdown",
   "metadata": {},
   "source": [
    "### Ans3:\n",
    "           呈上題，主要變數有\n",
    "           1. 車輛編號(類別)\n",
    "           2. 載客方式(類別)\n",
    "           3. 總發車時間(無論車上有無乘客)(數值)\n",
    "           4. 總載客時間(數值)\n",
    "           5. 空車率(由 3.& 4.的衍生變數)(數值)\n",
    "           6. 當月載客次數(計數)\n",
    "           7. 當月耗油成本(數值)\n",
    "           8. 當月利潤(數值)"
   ]
  },
  {
   "cell_type": "markdown",
   "metadata": {},
   "source": [
    "### Ans4:\n",
    "           為驗證假說，需進行兩組載客方式的車輛(隨機搜尋 V.S. 定點載客)之平均載客次數、平均空車率以及平均利潤的比較，可利用統計方法雙樣本T檢定檢定兩組之平均載客次數、平均空車率以及平均利潤是否存在差異，若在平均載客次數以及平均利潤的檢定結果發現定點載客的平均值明顯高於隨機搜尋，而定點載客的平均空車率小於隨機搜尋的平均空車率時，則我們就支持定點載客的方式對於業績較好。"
   ]
  }
 ],
 "metadata": {
  "anaconda-cloud": {},
  "kernelspec": {
   "display_name": "Python 3",
   "language": "python",
   "name": "python3"
  },
  "language_info": {
   "codemirror_mode": {
    "name": "ipython",
    "version": 3
   },
   "file_extension": ".py",
   "mimetype": "text/x-python",
   "name": "python",
   "nbconvert_exporter": "python",
   "pygments_lexer": "ipython3",
   "version": "3.6.7"
  }
 },
 "nbformat": 4,
 "nbformat_minor": 1
}
